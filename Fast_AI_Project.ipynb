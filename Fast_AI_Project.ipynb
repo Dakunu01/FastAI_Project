{
  "nbformat": 4,
  "nbformat_minor": 0,
  "metadata": {
    "kernelspec": {
      "name": "python3",
      "display_name": "Python 3"
    },
    "language_info": {
      "codemirror_mode": {
        "name": "ipython",
        "version": 3
      },
      "file_extension": ".py",
      "mimetype": "text/x-python",
      "name": "python",
      "nbconvert_exporter": "python",
      "pygments_lexer": "ipython3",
      "version": "3.7.3"
    },
    "colab": {
      "name": "Fast_AI_Project.ipynb",
      "provenance": []
    },
    "accelerator": "GPU"
  },
  "cells": [
    {
      "cell_type": "code",
      "metadata": {
        "id": "7A-y9435mI94",
        "colab_type": "code",
        "colab": {}
      },
      "source": [
        "from fastai.vision import *"
      ],
      "execution_count": 0,
      "outputs": []
    },
    {
      "cell_type": "code",
      "metadata": {
        "id": "2jqGWhCzmTw6",
        "colab_type": "code",
        "colab": {}
      },
      "source": [
        "from fastai import *\n",
        "from fastai.vision import *"
      ],
      "execution_count": 0,
      "outputs": []
    },
    {
      "cell_type": "code",
      "metadata": {
        "id": "bRgFlDEtoI4q",
        "colab_type": "code",
        "colab": {}
      },
      "source": [
        "folderBrains = 'Brains'\n",
        "fileBrains = 'urls_brains.csv'\n",
        "\n",
        "folderBreasts = 'Breasts'\n",
        "fileBreasts = 'urls_breasts.csv'\n",
        "\n",
        "folderIntestines = 'Intestines'\n",
        "fileIntestines = 'urls_intestines.csv'\n",
        "\n",
        "folderLungs = 'Lungs'\n",
        "fileLungs = 'urls_lungs.csv'\n",
        "\n",
        "path = Path('Dataset\\CT')\n",
        "\n",
        "destBrains = path/folderBrains\n",
        "destBrains.mkdir(parents=True, exist_ok=True)\n",
        "\n",
        "destBreasts = path/folderBreasts\n",
        "destBreasts.mkdir(parents=True, exist_ok=True)\n",
        "\n",
        "destIntestines = path/folderIntestines\n",
        "destIntestines.mkdir(parents=True, exist_ok=True)\n",
        "\n",
        "destLungs = path/folderLungs\n",
        "destLungs.mkdir(parents=True, exist_ok=True)\n"
      ],
      "execution_count": 0,
      "outputs": []
    },
    {
      "cell_type": "code",
      "metadata": {
        "id": "CJ_gIEpwrQMz",
        "colab_type": "code",
        "colab": {}
      },
      "source": [
        "classes = ['Brains','Breasts','Intestines','Lungs']"
      ],
      "execution_count": 0,
      "outputs": []
    },
    {
      "cell_type": "code",
      "metadata": {
        "id": "ySXTyzKNrQVL",
        "colab_type": "code",
        "colab": {
          "base_uri": "https://localhost:8080/",
          "height": 17
        },
        "outputId": "068c9e90-cca3-4056-9b0f-64e8f73810df"
      },
      "source": [
        "download_images(path/fileBrains, destBrains, max_pics=200)\n",
        "download_images(path/fileBreasts, destBreasts, max_pics=200)\n",
        "download_images(path/fileIntestines, destIntestines, max_pics=200)\n",
        "download_images(path/fileLungs, destLungs, max_pics=200)"
      ],
      "execution_count": 47,
      "outputs": [
        {
          "output_type": "display_data",
          "data": {
            "text/html": [
              ""
            ],
            "text/plain": [
              "<IPython.core.display.HTML object>"
            ]
          },
          "metadata": {
            "tags": []
          }
        },
        {
          "output_type": "display_data",
          "data": {
            "text/html": [
              ""
            ],
            "text/plain": [
              "<IPython.core.display.HTML object>"
            ]
          },
          "metadata": {
            "tags": []
          }
        },
        {
          "output_type": "display_data",
          "data": {
            "text/html": [
              ""
            ],
            "text/plain": [
              "<IPython.core.display.HTML object>"
            ]
          },
          "metadata": {
            "tags": []
          }
        },
        {
          "output_type": "display_data",
          "data": {
            "text/html": [
              ""
            ],
            "text/plain": [
              "<IPython.core.display.HTML object>"
            ]
          },
          "metadata": {
            "tags": []
          }
        }
      ]
    },
    {
      "cell_type": "code",
      "metadata": {
        "id": "Xqf64rFrryaQ",
        "colab_type": "code",
        "colab": {}
      },
      "source": [
        ""
      ],
      "execution_count": 0,
      "outputs": []
    }
  ]
}